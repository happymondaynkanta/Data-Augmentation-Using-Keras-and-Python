{
 "cells": [
  {
   "cell_type": "code",
   "execution_count": 3,
   "metadata": {},
   "outputs": [
    {
     "name": "stdout",
     "output_type": "stream",
     "text": [
      "Before saving:\n",
      "[]\n",
      "After saving image\n",
      "['chest_1.png']\n",
      "Successfully saved\n",
      "Before saving:\n",
      "['chest_1.png']\n",
      "After saving image\n",
      "['chest_1.png', 'chest_2.png']\n",
      "Successfully saved\n",
      "Before saving:\n",
      "['chest_1.png', 'chest_2.png']\n",
      "After saving image\n",
      "['chest_1.png', 'chest_2.png', 'chest_3.png']\n",
      "Successfully saved\n"
     ]
    }
   ],
   "source": [
    "# import libraries\n",
    "import cv2\n",
    "import os\n",
    "from os import listdir,makedirs\n",
    "from os.path import isfile,join\n",
    "import tensorflow as tf\n",
    "import numpy as np\n",
    "import glob\n",
    "from PIL import Image\n",
    "\n",
    "# specufy image path\n",
    "image_path ='E:/GITHUB CODES/New source codes/Data Augmentation/data_augmentation_file/data'\n",
    "\n",
    "# specify destination path\n",
    "directory ='E:/GITHUB CODES/New source codes/Data Augmentation/data_augmentation_file/result'\n",
    "\n",
    "i = 1\n",
    "\n",
    "for img in glob.glob(image_path+'/*.*'):\n",
    "    \n",
    "    try:\n",
    "        img = cv2.imread(img)\n",
    "        # Resize the images\n",
    "        img_resize = cv2.resize(img, (224, 224))\n",
    "        # Convert to grayscale (It is optional, depending on your choice)\n",
    "        #img_b = cv2.cvtColor(img, cv2.COLOR_BGR2GRAY)\n",
    "\n",
    "\n",
    "        os.chdir(directory)\n",
    "        print(\"Before saving:\")\n",
    "        print(os.listdir(directory))\n",
    "        # Rename your dataset\n",
    "        filename = \"chest_\" + str(i) + \".png\"\n",
    "        #filename = \"\" + str(i) + \".png\"\n",
    "       \n",
    "        cv2.imwrite(filename, img_resize)\n",
    "        #cv2.imwrite(filename, img_b)\n",
    "\n",
    "        print(\"After saving image\")\n",
    "        print(os.listdir(directory))\n",
    "        print(\"Successfully saved\")\n",
    "        \n",
    "        i+=1\n",
    "\n",
    "    except:\n",
    "        print (\"{} is not resized\".format(image))\n",
    "\n",
    "\n"
   ]
  },
  {
   "cell_type": "code",
   "execution_count": null,
   "metadata": {},
   "outputs": [],
   "source": []
  }
 ],
 "metadata": {
  "kernelspec": {
   "display_name": "Python 3",
   "language": "python",
   "name": "python3"
  },
  "language_info": {
   "codemirror_mode": {
    "name": "ipython",
    "version": 3
   },
   "file_extension": ".py",
   "mimetype": "text/x-python",
   "name": "python",
   "nbconvert_exporter": "python",
   "pygments_lexer": "ipython3",
   "version": "3.7.4"
  }
 },
 "nbformat": 4,
 "nbformat_minor": 2
}
